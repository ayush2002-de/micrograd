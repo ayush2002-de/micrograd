{
 "cells": [
  {
   "cell_type": "code",
   "execution_count": 1,
   "id": "bf93d674",
   "metadata": {},
   "outputs": [
    {
     "name": "stdout",
     "output_type": "stream",
     "text": [
      "6.336362190988558\n"
     ]
    }
   ],
   "source": [
    "# here is a mathematical expression that takes 3 inputs and produces one output\n",
    "from math import sin, cos\n",
    "\n",
    "def f(a, b, c):\n",
    "  return -a**3 + sin(3*b) - 1.0/c + b**2.5 - a**0.5\n",
    "\n",
    "print(f(2, 3, 4))"
   ]
  },
  {
   "cell_type": "code",
   "execution_count": 3,
   "id": "aa4777c3",
   "metadata": {},
   "outputs": [
    {
     "name": "stdout",
     "output_type": "stream",
     "text": [
      "OK for dim 0: expected -12.353553390593273, yours returns -12.353553390593273\n",
      "OK for dim 1: expected 10.25699027111255, yours returns 10.25699027111255\n",
      "OK for dim 2: expected 0.0625, yours returns 0.0625\n"
     ]
    }
   ],
   "source": [
    "# write the function df that returns the analytical gradient of f\n",
    "# i.e. use your skills from calculus to take the derivative, then implement the formula\n",
    "# if you do not calculus then feel free to ask wolframalpha, e.g.:\n",
    "# https://www.wolframalpha.com/input?i=d%2Fda%28sin%283*a%29%29%29\n",
    "\n",
    "def gradf(a, b, c):\n",
    "  dfa = -3*(a**2) - 0.5*(a**(-0.5)) # derivative of -a^3 + sin(3*b) - 1/c + b^2.5 - a^0.5\n",
    "  dfb = 3*cos(3*b) + 2.5*(b**1.5) # derivative of -a^3 + sin(3*b) - 1/c + b^2.5 - a^0.5\n",
    "  dfc = 1/(c**2) # derivative of -a^3 + sin(3*b) - 1/c + b^2.5 - a^0.5\n",
    "  return [dfa, dfb, dfc] # todo, return [df/da, df/db, df/dc]\n",
    "\n",
    "# expected answer is the list of \n",
    "ans = [-12.353553390593273, 10.25699027111255, 0.0625]\n",
    "yours = gradf(2, 3, 4)\n",
    "for dim in range(3):\n",
    "  ok = 'OK' if abs(yours[dim] - ans[dim]) < 1e-5 else 'WRONG!'\n",
    "  print(f\"{ok} for dim {dim}: expected {ans[dim]}, yours returns {yours[dim]}\")"
   ]
  },
  {
   "cell_type": "code",
   "execution_count": 11,
   "id": "e9a9e33e",
   "metadata": {},
   "outputs": [
    {
     "name": "stdout",
     "output_type": "stream",
     "text": [
      "OK for dim 0: expected -12.353553390593273, yours returns -12.353553966448771\n",
      "OK for dim 1: expected 10.25699027111255, yours returns 10.256990385926201\n",
      "OK for dim 2: expected 0.0625, yours returns 0.06249999628948899\n"
     ]
    }
   ],
   "source": [
    "# now estimate the gradient numerically without any calculus, using\n",
    "# the approximation we used in the video.\n",
    "# you should not call the function df from the last cell\n",
    "\n",
    "# -----------\n",
    "h = 0.0000001\n",
    "a = 2\n",
    "b = 3\n",
    "c = 4\n",
    "\n",
    "fa = -a**3 + sin(3*b) - 1.0/c + b**2.5 - a**0.5\n",
    "fah = - (a + h)**3 + sin(3*b) - 1.0/c + b**2.5 - (a + h)**0.5\n",
    "dfa = (fah - fa) / h\n",
    "\n",
    "fb = -a**3 + sin(3*b) - 1.0/c + b **2.5 - a**0.5\n",
    "fbh = -a**3 + sin(3*(b + h)) - 1.0/c + (b + h)**2.5 - a**0.5\n",
    "dfb = (fbh - fb) / h\n",
    "\n",
    "fc = -a**3 + sin(3*b) - 1.0/c + b**2.5 - a**0.5\n",
    "fch = -a**3 + sin(3*b) - 1.0/(c + h) + b**2.5 - a**0.5\n",
    "dfc = (fch - fc) / h\n",
    "numerical_grad = [dfa, dfb, dfc]\n",
    "\n",
    "\n",
    "# -----------\n",
    "\n",
    "for dim in range(3):\n",
    "  ok = 'OK' if abs(numerical_grad[dim] - ans[dim]) < 1e-5 else 'WRONG!'\n",
    "  print(f\"{ok} for dim {dim}: expected {ans[dim]}, yours returns {numerical_grad[dim]}\")"
   ]
  },
  {
   "cell_type": "code",
   "execution_count": 12,
   "id": "2ac16a38",
   "metadata": {},
   "outputs": [
    {
     "name": "stdout",
     "output_type": "stream",
     "text": [
      "OK for dim 0: expected -12.353553390593273, yours returns -12.353553380251014\n",
      "OK for dim 1: expected 10.25699027111255, yours returns 10.256990252699438\n",
      "OK for dim 2: expected 0.0625, yours returns 0.06250000073038109\n"
     ]
    }
   ],
   "source": [
    "# there is an alternative formula that provides a much better numerical \n",
    "# approximation to the derivative of a function.\n",
    "# learn about it here: https://en.wikipedia.org/wiki/Symmetric_derivative\n",
    "# implement it. confirm that for the same step size h this version gives a\n",
    "# better approximation.\n",
    "\n",
    "\n",
    "\n",
    "# -----------\n",
    "fanh = - (a - h)**3 + sin(3*b) - 1.0/c + b**2.5 - (a - h)**0.5\n",
    "ndfa = (fah - fanh) / (2*h)\n",
    "\n",
    "fbnh = -a**3 + sin(3*(b - h)) - 1.0/c + (b - h)**2.5 - a**0.5\n",
    "ndfb = (fbh - fbnh) / (2*h)\n",
    "\n",
    "fcnh = -a**3 + sin(3*b) - 1.0/(c - h) + b**2.5 - a**0.5\n",
    "ndfc = (fch - fcnh) / (2*h)\n",
    "numerical_grad2 = [ndfa, ndfb, ndfc]\n",
    "\n",
    "\n",
    "\n",
    "# -----------\n",
    "\n",
    "for dim in range(3):\n",
    "  ok = 'OK' if abs(numerical_grad2[dim] - ans[dim]) < 1e-5 else 'WRONG!'\n",
    "  print(f\"{ok} for dim {dim}: expected {ans[dim]}, yours returns {numerical_grad2[dim]}\")"
   ]
  },
  {
   "cell_type": "code",
   "execution_count": 34,
   "id": "82c17bf1",
   "metadata": {},
   "outputs": [],
   "source": [
    "# Value class starter code, with many functions taken out\n",
    "from math import exp, log\n",
    "\n",
    "class Value:\n",
    "  \n",
    "  def __init__(self, data, _children=(), _op='', label=''):\n",
    "    self.data = data\n",
    "    self.grad = 0.0\n",
    "    self._backward = lambda: None\n",
    "    self._prev = set(_children)\n",
    "    self._op = _op\n",
    "    self.label = label\n",
    "\n",
    "  def __repr__(self):\n",
    "    return f\"Value(data={self.data})\"\n",
    "  \n",
    "  def __add__(self, other): # exactly as in the video\n",
    "    other = other if isinstance(other, Value) else Value(other)\n",
    "    out = Value(self.data + other.data, (self, other), '+')\n",
    "    \n",
    "    def _backward():\n",
    "      self.grad += 1.0 * out.grad\n",
    "      other.grad += 1.0 * out.grad\n",
    "    out._backward = _backward\n",
    "    \n",
    "    return out\n",
    "  \n",
    "  # ------\n",
    "  # re-implement all the other functions needed for the exercises below\n",
    "  # your code here\n",
    "  def __radd__(self, other):\n",
    "    return self + other\n",
    "  \n",
    "  def __mul__(self, other):\n",
    "      other = other if isinstance(other, Value) else Value(other)\n",
    "      out = Value(self.data * other.data, (self, other), '*')\n",
    "\n",
    "      def _backward():\n",
    "        self.grad += other.data * out.grad\n",
    "        other.grad += self.data * out.grad\n",
    "      out._backward = _backward\n",
    "\n",
    "      return out \n",
    "  def __rmul__(self, other):\n",
    "      return self * other\n",
    "  \n",
    "  def __neg__(self):\n",
    "     return self * -1\n",
    "  \n",
    "  def exp(self):\n",
    "      out = Value(exp(self.data), (self,), 'exp')\n",
    "      \n",
    "      def _backward():\n",
    "          self.grad += out.grad * exp(self.data)\n",
    "      out._backward = _backward\n",
    "      \n",
    "      return out \n",
    "  \n",
    "  def log(self):\n",
    "      out = Value(log(self.data), (self,), 'log')\n",
    "      \n",
    "      def _backward():\n",
    "          self.grad += out.grad * (1 / self.data)\n",
    "      out._backward = _backward\n",
    "      \n",
    "      return out\n",
    "  \n",
    "  def __pow__(self, other):\n",
    "        other = other if isinstance(other, Value) else Value(other)\n",
    "        out = Value(self.data ** other.data, (self, other), '**')\n",
    "    \n",
    "        def _backward():\n",
    "            self.grad += out.grad * other.data * (self.data ** (other.data - 1))\n",
    "            other.grad += out.grad * log(self.data) * self.data ** other.data\n",
    "        out._backward = _backward\n",
    "    \n",
    "        return out\n",
    "  \n",
    "  def __truediv__(self, other):\n",
    "     return self * other**-1\n",
    "  \n",
    "  def __rtruediv__(self, other):\n",
    "     other = other if isinstance(other, Value) else Value(other)\n",
    "     return other / self\n",
    "\n",
    "  # ------\n",
    "\n",
    "  def backward(self): # exactly as in video  \n",
    "    topo = []\n",
    "    visited = set()\n",
    "    def build_topo(v):\n",
    "      if v not in visited:\n",
    "        visited.add(v)\n",
    "        for child in v._prev:\n",
    "          build_topo(child)\n",
    "        topo.append(v)\n",
    "    build_topo(self)\n",
    "    \n",
    "    self.grad = 1.0\n",
    "    for node in reversed(topo):\n",
    "      node._backward()"
   ]
  },
  {
   "cell_type": "code",
   "execution_count": 35,
   "id": "8bbe6ff5",
   "metadata": {},
   "outputs": [
    {
     "name": "stdout",
     "output_type": "stream",
     "text": [
      "2.1755153626167147\n",
      "OK for dim 0: expected 0.041772570515350445, yours returns 0.041772570515350445\n",
      "OK for dim 1: expected 0.8390245074625319, yours returns 0.8390245074625319\n",
      "OK for dim 2: expected 0.005653302662216329, yours returns 0.005653302662216329\n",
      "OK for dim 3: expected -0.8864503806400986, yours returns -0.8864503806400986\n"
     ]
    }
   ],
   "source": [
    "# without referencing our code/video __too__ much, make this cell work\n",
    "# you'll have to implement (in some cases re-implemented) a number of functions\n",
    "# of the Value object, similar to what we've seen in the video.\n",
    "# instead of the squared error loss this implements the negative log likelihood\n",
    "# loss, which is very often used in classification.\n",
    "\n",
    "# this is the softmax function\n",
    "# https://en.wikipedia.org/wiki/Softmax_function\n",
    "def softmax(logits):\n",
    "  counts = [logit.exp() for logit in logits]\n",
    "  denominator = sum(counts)\n",
    "  out = [c / denominator for c in counts]\n",
    "  return out\n",
    "\n",
    "# this is the negative log likelihood loss function, pervasive in classification\n",
    "logits = [Value(0.0), Value(3.0), Value(-2.0), Value(1.0)]\n",
    "probs = softmax(logits)\n",
    "loss = -probs[3].log() # dim 3 acts as the label for this input example\n",
    "loss.backward()\n",
    "print(loss.data)\n",
    "\n",
    "ans = [0.041772570515350445, 0.8390245074625319, 0.005653302662216329, -0.8864503806400986]\n",
    "for dim in range(4):\n",
    "  ok = 'OK' if abs(logits[dim].grad - ans[dim]) < 1e-5 else 'WRONG!'\n",
    "  print(f\"{ok} for dim {dim}: expected {ans[dim]}, yours returns {logits[dim].grad}\")"
   ]
  },
  {
   "cell_type": "code",
   "execution_count": 36,
   "id": "5787157f",
   "metadata": {},
   "outputs": [
    {
     "name": "stderr",
     "output_type": "stream",
     "text": [
      "/Users/ayush.c/personal/micrograd/venv/lib/python3.9/site-packages/torch/_subclasses/functional_tensor.py:276: UserWarning: Failed to initialize NumPy: No module named 'numpy' (Triggered internally at /Users/runner/work/pytorch/pytorch/pytorch/torch/csrc/utils/tensor_numpy.cpp:81.)\n",
      "  cpu = _conversion_method_template(device=torch.device(\"cpu\"))\n"
     ]
    },
    {
     "name": "stdout",
     "output_type": "stream",
     "text": [
      "2.1755154132843018\n"
     ]
    },
    {
     "name": "stderr",
     "output_type": "stream",
     "text": [
      "/var/folders/k9/83zxtw0x5z59nycg5lk7smzr0000gp/T/ipykernel_29822/855125790.py:6: UserWarning: Implicit dimension choice for softmax has been deprecated. Change the call to include dim=X as an argument.\n",
      "  probs = torch.nn.functional.softmax(logits)\n"
     ]
    }
   ],
   "source": [
    "# verify the gradient using the torch library\n",
    "# torch should give you the exact same gradient\n",
    "import torch\n",
    "\n",
    "logits = torch.tensor([0.0, 3.0, -2.0, 1.0], requires_grad=True)\n",
    "probs = torch.nn.functional.softmax(logits)\n",
    "loss = -probs[3].log()\n",
    "loss.backward()\n",
    "print(loss.item())"
   ]
  }
 ],
 "metadata": {
  "kernelspec": {
   "display_name": "venv",
   "language": "python",
   "name": "python3"
  },
  "language_info": {
   "codemirror_mode": {
    "name": "ipython",
    "version": 3
   },
   "file_extension": ".py",
   "mimetype": "text/x-python",
   "name": "python",
   "nbconvert_exporter": "python",
   "pygments_lexer": "ipython3",
   "version": "3.9.6"
  }
 },
 "nbformat": 4,
 "nbformat_minor": 5
}
